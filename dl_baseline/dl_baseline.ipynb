{
  "nbformat": 4,
  "nbformat_minor": 0,
  "metadata": {
    "colab": {
      "name": "dl_baseline.ipynb",
      "provenance": [],
      "collapsed_sections": []
    },
    "kernelspec": {
      "name": "python3",
      "display_name": "Python 3"
    }
  },
  "cells": [
    {
      "cell_type": "code",
      "metadata": {
        "id": "MZ9i64vMTCRa",
        "colab_type": "code",
        "colab": {}
      },
      "source": [
        "import torch\n",
        "import torch.nn as nn\n",
        "from torch.utils.data import Dataset, DataLoader\n",
        "import pandas as pd\n",
        "import numpy as np\n",
        "from sklearn import preprocessing\n",
        "import matplotlib.pyplot as plt\n",
        "from google.colab import drive\n",
        "import os"
      ],
      "execution_count": 0,
      "outputs": []
    },
    {
      "cell_type": "code",
      "metadata": {
        "id": "fFGViEdjTQyi",
        "colab_type": "code",
        "colab": {}
      },
      "source": [
        "device = torch.device(\"cuda:0\" if torch.cuda.is_available() else \"cpu\")\n",
        "drive.mount('/content/drive')\n",
        "repo_path = \"/content/fpl_prediction/\"\n",
        "if not os.path.isdir(repo_path):\n",
        "  !git clone https://github.com/SolomonAduolMaina/fpl_prediction"
      ],
      "execution_count": 0,
      "outputs": []
    },
    {
      "cell_type": "code",
      "metadata": {
        "id": "_0fhMiyDBAZG",
        "colab_type": "code",
        "colab": {}
      },
      "source": [
        "def get_data(SEASON, ROUND):\n",
        "  SEASON = {2016 : 1, 2017 : 2, 2018 : 3, 2019 : 4}[SEASON]\n",
        "  directory_string = '/content/fpl_prediction/data/20{0}-{1}/players/'\n",
        "  players_data = {}\n",
        "  players = {}\n",
        "  player_names = set()\n",
        "  index_count = 0\n",
        "  fields = ['assists', 'bonus', 'bps', 'clean_sheets', 'creativity', 'goals_conceded', 'goals_scored', 'ict_index', 'influence', 'minutes', 'opponent_team', 'own_goals', 'penalties_missed', 'penalties_saved', 'player', 'red_cards', 'round', 'saves', 'selected', 'team_a_score', 'team_h_score', 'threat',  'total_points', 'transfers_balance', 'transfers_in', 'transfers_out', 'value', 'was_home', 'yellow_cards']\n",
        "\n",
        "  for season in range(0, SEASON):\n",
        "      formatted_string = directory_string.format(season + 16, season + 16 + 1)\n",
        "      directory = os.fsencode(formatted_string)\n",
        "\n",
        "      for file in os.listdir(directory):\n",
        "          filename = os.fsdecode(file)\n",
        "          name = \" \".join(filename.split('_')[:2])\n",
        "          player_names.add(name)\n",
        "\n",
        "          if name not in players:\n",
        "              players[name] = index_count\n",
        "              index_count = index_count + 1\n",
        "\n",
        "          csv = pd.read_csv(formatted_string + filename + '/gw.csv', encoding = \"UTF-8\")\n",
        "          csv = csv[csv['round'] <= ROUND + 1]\n",
        "          csv['round'] = 38 * season + csv['round']\n",
        "          csv['player'] = pd.Series([players[name]] * len(csv))\n",
        "          csv = csv[fields]\n",
        "          csv = csv.astype('float')\n",
        "\n",
        "          if name not in players_data:\n",
        "              players_data[name] = csv\n",
        "          else:\n",
        "              players_data[name] = pd.concat([players_data[name], csv])\n",
        "\n",
        "  players_data = { name : df.drop_duplicates(subset=['round'], keep='last') for (name,df)  in players_data.items() if len(players_data[name]) > 0}\n",
        "\n",
        "  for name in players_data:\n",
        "      players_data[name].to_csv('/content/fpl_prediction/players/{0}.csv'.format(name), index=False)\n",
        "\n",
        "  name_mapping = {}\n",
        "  player_mapping = pd.read_csv('/content/fpl_prediction/name_conversions.csv', encoding = \"UTF-8\")\n",
        "  for row in player_mapping.itertuples():\n",
        "      name_mapping[row.bad_name] = row.good_name\n",
        "\n",
        "  directory_string = '/content/fpl_prediction/data/20{0}-{1}/'\n",
        "  new_names = set()\n",
        "  positions_and_teams={}\n",
        "  for season in range(0, SEASON):\n",
        "      formatted_string = directory_string.format(season + 16, season + 16 + 1)\n",
        "\n",
        "      csv = pd.read_csv(formatted_string + 'players_raw.csv', encoding = \"UTF-8\")\n",
        "      for row in csv.itertuples():\n",
        "          name = row.first_name + ' ' + row.second_name\n",
        "          name = name_mapping[name] if name in name_mapping else name\n",
        "          new_names.add(name)\n",
        "\n",
        "          position = row.element_type\n",
        "          team_id = row.team_code\n",
        "      \n",
        "          if name not in positions_and_teams:\n",
        "              positions_and_teams[name] = (position, [None] * 4)\n",
        "          positions_and_teams[name][1][season] = team_id\n",
        "\n",
        "  gameweek_data=[[pd.DataFrame(columns=['name', 'team', 'position', 'value', 'total_points']) for i in range(0, 38)] for i in range(0,4)]\n",
        "\n",
        "  for name in players_data:\n",
        "      for row in players_data[name].itertuples():\n",
        "          convenient_round = int(row.round) - 1\n",
        "          season = convenient_round // 38\n",
        "          week = convenient_round % 38\n",
        "          position = positions_and_teams[name][0]\n",
        "          team = positions_and_teams[name][1][season]\n",
        "          value = row.value\n",
        "          total_points = row.total_points\n",
        "          data = {'name' : name, 'team' : team, 'position' : position, 'value': value, 'total_points' : total_points}\n",
        "          old_data = gameweek_data[season][week]\n",
        "          gameweek_data[season][week] = old_data.append(data, ignore_index=True)\n",
        "\n",
        "  return (players_data, gameweek_data)"
      ],
      "execution_count": 0,
      "outputs": []
    },
    {
      "cell_type": "code",
      "metadata": {
        "colab_type": "code",
        "id": "T4C1DRkasnJB",
        "colab": {}
      },
      "source": [
        "class PlayerDataset(torch.utils.data.Dataset):\n",
        "  def __init__(self, players_data):\n",
        "    self.sorted_names = list(players_data)\n",
        "    self.sorted_names.sort()\n",
        "\n",
        "    all_data = pd.concat([players_data[name] for name in self.sorted_names])\n",
        "    all_features = all_data.drop(['total_points'], axis=1).to_numpy()\n",
        "    all_total_points = all_data.drop(all_data.columns.difference(['total_points']), axis=1).to_numpy()\n",
        "    scaler = preprocessing.RobustScaler()\n",
        "    scaled_features = scaler.fit_transform(all_features)\n",
        "\n",
        "    end = 0\n",
        "    self.players_data = {}\n",
        "    self.training_data = []\n",
        "    for name in self.sorted_names:\n",
        "      number = len(players_data[name])\n",
        "\n",
        "      for length in range(number - 1): # -1 because we have no prediction for the last row\n",
        "        self.training_data.append((torch.Tensor(scaled_features[end : end + 1 + length, :]), all_total_points[end + length + 1]))\n",
        "\n",
        "      new_end = end + number\n",
        "      features = torch.Tensor(scaled_features[end : new_end, :])\n",
        "      total_points = torch.Tensor(all_total_points[end : new_end, :])\n",
        "      self.players_data[name] = (features, total_points)\n",
        "      end = new_end\n",
        "\n",
        "  def __len__(self):\n",
        "    return len(self.training_data)\n",
        "\n",
        "  def __getitem__(self, index):\n",
        "    return(self.training_data[index])\n",
        "    \n",
        "  def player_data(self, name):\n",
        "    return self.players_data[name]\n"
      ],
      "execution_count": 0,
      "outputs": []
    },
    {
      "cell_type": "code",
      "metadata": {
        "colab_type": "code",
        "id": "wMhkdrPysrhy",
        "colab": {}
      },
      "source": [
        "players_data, gameweek_data = get_data(2016, 2)\n",
        "train_dataset = PlayerDataset(players_data)\n",
        "train_dataloader = torch.utils.data.DataLoader(train_dataset, shuffle=True)"
      ],
      "execution_count": 0,
      "outputs": []
    },
    {
      "cell_type": "code",
      "metadata": {
        "colab_type": "code",
        "id": "sjNLdMNvAV_s",
        "colab": {}
      },
      "source": [
        "class GRUPredictor(torch.nn.Module):\n",
        " \n",
        "  def __init__(self, embedding_dim, hidden_dim):\n",
        "    super(GRUPredictor, self).__init__()\n",
        "    self.hidden_dim = hidden_dim\n",
        "    self.gru = nn.GRU(embedding_dim, hidden_dim)\n",
        "    self.fc = nn.Linear(hidden_dim, 1)\n",
        "\n",
        "  def forward(self, x):\n",
        "    _, hidden = self.gru(x) # maybe use output for attention later\n",
        "    result = self.fc(hidden)\n",
        "    return outputs"
      ],
      "execution_count": 0,
      "outputs": []
    },
    {
      "cell_type": "code",
      "metadata": {
        "id": "7WI2oj6hdGc-",
        "colab_type": "code",
        "colab": {}
      },
      "source": [
        "hidden_dim = 100\n",
        "model = GRUPredictor(len(fields) - 1, hidden_dim).to(device)\n",
        "criterion = nn.MSELoss()\n",
        "optimizer = torch.optim.Adam(model.parameters(), lr=1e-4)\n",
        "\n",
        "graph = []\n",
        "for epoch in range(5):\n",
        "  running_loss = 0.0\n",
        "  items = 0\n",
        "\n",
        "  for index, (features, points) in enumerate(train_dataloader):\n",
        "    features = features.permute(1, 0, 2).to(device)\n",
        "    points = points.view(-1).to(device)\n",
        "\n",
        "    model.zero_grad()\n",
        "    pred = model(features).view(-1)\n",
        "    loss = criterion(pred, points)\n",
        "    loss.backward()\n",
        "    optimizer.step()\n",
        "\n",
        "    running_loss += loss.item()\n",
        "    items = items + 1\n",
        "\n",
        "  avg_loss = running_loss / items\n",
        "  print('{0} done, average loss is {1}'.format(epoch + 1, avg_loss))\n",
        "  graph.append(avg_loss)\n"
      ],
      "execution_count": 0,
      "outputs": []
    },
    {
      "cell_type": "code",
      "metadata": {
        "id": "LOsWyE4-LPYS",
        "colab_type": "code",
        "colab": {}
      },
      "source": [
        "history = train_dataset.player_data('Mohamed Salah')[0][:-1]\n",
        "actual = list(train_dataset.player_data('Mohamed Salah')[1][1:])\n",
        "predicted = list(model(history.view(history.shape[0], 1, history.shape[1])))\n",
        "print([(actual[i].item(), predicted[i].item()) for i in range(len(actual))])"
      ],
      "execution_count": 0,
      "outputs": []
    },
    {
      "cell_type": "code",
      "metadata": {
        "id": "S_7OstNkcMA2",
        "colab_type": "code",
        "colab": {}
      },
      "source": [
        "plt.figure()\n",
        "plt.plot(graph)\n",
        "plt.show()"
      ],
      "execution_count": 0,
      "outputs": []
    }
  ]
}