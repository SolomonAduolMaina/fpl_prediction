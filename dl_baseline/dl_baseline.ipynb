{
  "nbformat": 4,
  "nbformat_minor": 0,
  "metadata": {
    "colab": {
      "name": "dl_baseline.ipynb",
      "provenance": [],
      "collapsed_sections": []
    },
    "kernelspec": {
      "name": "python3",
      "display_name": "Python 3"
    }
  },
  "cells": [
    {
      "cell_type": "code",
      "metadata": {
        "id": "MZ9i64vMTCRa",
        "colab_type": "code",
        "colab": {}
      },
      "source": [
        "import torch\n",
        "import torch.nn as nn\n",
        "from torch.utils.data import DataLoader\n",
        "import pandas as pd\n",
        "import numpy as np\n",
        "from google.colab import drive\n",
        "import os"
      ],
      "execution_count": 0,
      "outputs": []
    },
    {
      "cell_type": "code",
      "metadata": {
        "id": "fFGViEdjTQyi",
        "colab_type": "code",
        "colab": {}
      },
      "source": [
        "#import os, stat\n",
        "#import shutil\n",
        "\n",
        "#def remove_readonly(func, path, _):\n",
        "#    \"Clear the readonly bit and reattempt the removal\"\n",
        "#    os.chmod(path, stat.S_IWRITE)\n",
        "#    func(path)\n",
        "\n",
        "#shutil.rmtree('/content/fpl_prediction', onerror=remove_readonly)\n",
        "\n",
        "device = torch.device(\"cuda:0\" if torch.cuda.is_available() else \"cpu\")\n",
        "drive.mount('/content/drive')\n",
        "repo_path = \"/content/fpl_prediction/\"\n",
        "if not os.path.isdir(repo_path):\n",
        "  !git clone --recurse-submodule https://github.com/SolomonAduolMaina/fpl_prediction"
      ],
      "execution_count": 0,
      "outputs": []
    },
    {
      "cell_type": "code",
      "metadata": {
        "id": "_0fhMiyDBAZG",
        "colab_type": "code",
        "colab": {}
      },
      "source": [
        "directory_string = '/content/fpl_prediction/Fantasy-Premier-League/data/20{0}-{1}/players/'\n",
        "players_data = {}\n",
        "players = {}\n",
        "index_count = 0\n",
        "fields = ['assists', 'bonus', 'bps', 'clean_sheets', 'creativity', 'goals_conceded', 'goals_scored', 'ict_index', 'influence', 'minutes', 'opponent_team', 'own_goals', 'penalties_missed', 'penalties_saved', 'player', 'round', 'red_cards', 'saves', 'team_a_score', 'team_h_score', 'threat', 'total_points', 'value', 'was_home', 'yellow_cards']\n",
        "\n",
        "for season in range(0, 4):\n",
        "  formatted_string = directory_string.format(season + 16, season + 16 + 1)\n",
        "  directory = os.fsencode(formatted_string)\n",
        "\n",
        "  for file in os.listdir(directory):\n",
        "    filename = os.fsdecode(file)\n",
        "    name = \" \".join(filename.split('_')[:2])\n",
        "\n",
        "    if name not in players:\n",
        "      players[name] = index_count\n",
        "      index_count = index_count + 1\n",
        "\n",
        "    csv = pd.read_csv(formatted_string + filename + '/gw.csv', encoding = \"ISO-8859-1\")\n",
        "    csv['round'] = 38 * season + csv['round']\n",
        "    csv['player'] = pd.Series([players[name]] * len(csv))\n",
        "    csv = csv[fields]\n",
        "    csv = csv.astype('float')\n",
        "    features = torch.Tensor(csv.drop(['total_points'], axis=1).to_numpy())\n",
        "    total_points = torch.Tensor(csv.drop(csv.columns.difference(['total_points']), axis=1).to_numpy())\n",
        "\n",
        "    if name not in players_data:\n",
        "      players_data[name] = (features, total_points)\n",
        "    else:\n",
        "      players_data[name] = (torch.cat([players_data[name][0], features]), torch.cat([players_data[name][1], total_points]))"
      ],
      "execution_count": 0,
      "outputs": []
    },
    {
      "cell_type": "code",
      "metadata": {
        "colab_type": "code",
        "id": "sjNLdMNvAV_s",
        "colab": {}
      },
      "source": [
        "  def __init__(self, embedding_dim, hidden_dim):\n",
        "    super(LSTMPredictor, self).__init__()\n",
        "    self.hidden_dim = hidden_dim\n",
        "    self.lstm = nn.LSTM(embedding_dim, hidden_dim)\n",
        "    self.hidden2points = nn.Linear(hidden_dim, 1)\n",
        "    self.hidden = self.init_hidden()\n",
        "\n",
        "  def init_hidden(self):\n",
        "    return (torch.zeros(1, 1, self.hidden_dim), torch.zeros(1, 1, self.hidden_dim))\n",
        "\n",
        "  def forward(self, x):\n",
        "    lstm_out, self.hidden = self.lstm(x.view(len(x), 1, -1), self.hidden)\n",
        "    points = self.hidden2points(lstm_out.view(len(x), -1))\n",
        "    return points"
      ],
      "execution_count": 0,
      "outputs": []
    },
    {
      "cell_type": "code",
      "metadata": {
        "id": "7WI2oj6hdGc-",
        "colab_type": "code",
        "colab": {}
      },
      "source": [
        "hidden_dim = 100\n",
        "model = LSTMPredictor(len(fields) - 1, hidden_dim)\n",
        "criterion = nn.MSELoss()\n",
        "optimizer = torch.optim.Adam(model.parameters())\n",
        "\n",
        "for epoch in range(1):\n",
        "  for player in players_data:\n",
        "    features, total_points = (players_data[player][0][:-1], players_data[player][1][1:])\n",
        "\n",
        "    if len(features) > 0:\n",
        "      model.zero_grad()\n",
        "      model.hidden = model.init_hidden()\n",
        "      pred = model(features.view(len(features), 1, -1))\n",
        "      loss = criterion(pred, total_points)\n",
        "      loss.backward()\n",
        "      optimizer.step()"
      ],
      "execution_count": 0,
      "outputs": []
    }
  ]
}